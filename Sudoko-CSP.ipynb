{
 "cells": [
  {
   "cell_type": "code",
   "execution_count": 1,
   "id": "0b534ec5",
   "metadata": {},
   "outputs": [],
   "source": [
    "import numpy as np\n",
    "import pandas as pd\n",
    "import random"
   ]
  },
  {
   "cell_type": "code",
   "execution_count": 2,
   "id": "8ca9bde6",
   "metadata": {},
   "outputs": [],
   "source": [
    "def Create_sudoku():\n",
    "    # empty board\n",
    "    board =[]\n",
    "    for x in range(9):\n",
    "        rows=[]\n",
    "        for y in range(9):\n",
    "            rows.append(\".\")\n",
    "        board.append(rows)\n",
    "\n",
    "    # fill table+empty spaces\n",
    "    for i in range(9):\n",
    "        for j in range(9):\n",
    "            # assign random number to each cell\n",
    "            board[i][j] = random.randint(1, 9)\n",
    "            # prob of leacinf empty spaces\n",
    "    #         if random.random() > 0.3:\n",
    "    #             board[i][j] = \".\"\n",
    "    #     print(board)\n",
    "    return board"
   ]
  },
  {
   "cell_type": "code",
   "execution_count": 3,
   "id": "e0e95867",
   "metadata": {},
   "outputs": [
    {
     "data": {
      "text/plain": [
       "[[1, 2, 2, 9, 8, 1, 8, 4, 1],\n",
       " [4, 1, 2, 7, 3, 5, 9, 5, 9],\n",
       " [2, 6, 7, 2, 7, 5, 6, 6, 9],\n",
       " [1, 2, 3, 6, 9, 1, 8, 1, 9],\n",
       " [9, 2, 3, 9, 6, 7, 8, 4, 2],\n",
       " [3, 1, 2, 8, 2, 5, 9, 2, 1],\n",
       " [1, 9, 9, 8, 8, 7, 7, 4, 7],\n",
       " [4, 7, 9, 7, 1, 9, 9, 4, 9],\n",
       " [9, 4, 6, 9, 4, 1, 2, 3, 5]]"
      ]
     },
     "execution_count": 3,
     "metadata": {},
     "output_type": "execute_result"
    }
   ],
   "source": [
    "board=Create_sudoku()\n",
    "board"
   ]
  },
  {
   "cell_type": "code",
   "execution_count": null,
   "id": "7a9e6948",
   "metadata": {},
   "outputs": [],
   "source": []
  },
  {
   "cell_type": "code",
   "execution_count": 4,
   "id": "b723d721",
   "metadata": {},
   "outputs": [],
   "source": [
    "# HARD CODED BOARD FOR TESTING PURPOSES:\n",
    "board = [[3, 7, 3, 2, 4, 5, 8, 6, 1],  [2, 8, 5, 3, 6, 1, 9, 7, 4],  [1, 6, 4, 9, 7, 8, 2, 3, 5],\n",
    " [9, 5, 8, 6, 3, 4, 1, 2, 7],  [4, 3, 7, 1, 9, 2, 6, 5, 8],  [6, 2, 1, 8, 5, 7, 4, 9, 3],\n",
    " [7, 9, 2, 4, 1, 3, 5, 8, 6],  [8, 4, 3, 5, 2, 6, 7, 1, 9],  [5, 1, 6, 7, 8, 9, 3, 4, 2]]"
   ]
  },
  {
   "cell_type": "code",
   "execution_count": 5,
   "id": "8c4956a3",
   "metadata": {},
   "outputs": [],
   "source": [
    "# board = [[3,7,3,2,4,5,8,6,1],\n",
    "#          [2,8,5,3,6,1,9,7,4],\n",
    "#          [1,6,4,9,7,8,2,3,5],\n",
    "#          [9,5,8,6,3,4,1,2,7],\n",
    "#          [4,3,7,1,9,2,6,5,8],\n",
    "#          [6,2,1,8,5,7,4,9,3],\n",
    "#          [7,9,2,4,1,3,5,8,6],\n",
    "#          [8,4,3,5,2,6,7,1,9],\n",
    "#          [5,1,6,7,8,9,3,4,2]]"
   ]
  },
  {
   "cell_type": "code",
   "execution_count": 6,
   "id": "573b01b7",
   "metadata": {},
   "outputs": [],
   "source": [
    "r_board=board\n",
    "c_board=board\n",
    "g_board=board"
   ]
  },
  {
   "cell_type": "code",
   "execution_count": 7,
   "id": "0a761c09",
   "metadata": {},
   "outputs": [
    {
     "data": {
      "text/plain": [
       "[[3, 7, 3, 2, 4, 5, 8, 6, 1],\n",
       " [2, 8, 5, 3, 6, 1, 9, 7, 4],\n",
       " [1, 6, 4, 9, 7, 8, 2, 3, 5],\n",
       " [9, 5, 8, 6, 3, 4, 1, 2, 7],\n",
       " [4, 3, 7, 1, 9, 2, 6, 5, 8],\n",
       " [6, 2, 1, 8, 5, 7, 4, 9, 3],\n",
       " [7, 9, 2, 4, 1, 3, 5, 8, 6],\n",
       " [8, 4, 3, 5, 2, 6, 7, 1, 9],\n",
       " [5, 1, 6, 7, 8, 9, 3, 4, 2]]"
      ]
     },
     "execution_count": 7,
     "metadata": {},
     "output_type": "execute_result"
    }
   ],
   "source": [
    "r_board"
   ]
  },
  {
   "cell_type": "code",
   "execution_count": 8,
   "id": "c2fe82c5",
   "metadata": {},
   "outputs": [],
   "source": [
    "# print \n",
    "def Print_Board (board):\n",
    "    for i in range(9):\n",
    "        if i % 3 == 0 and i != \".\":\n",
    "            print(\"- - - - - - - - - - - - \")\n",
    "        for j in range(9):\n",
    "            if j % 3 == 0 and j != \".\":\n",
    "                print(\"| \", end=\"\")\n",
    "            if j == 8:\n",
    "                print(board[i][j])\n",
    "            else:\n",
    "                print(str(board[i][j]) + \" \", end=\"\")"
   ]
  },
  {
   "cell_type": "code",
   "execution_count": 9,
   "id": "0f8230a2",
   "metadata": {},
   "outputs": [
    {
     "name": "stdout",
     "output_type": "stream",
     "text": [
      "- - - - - - - - - - - - \n",
      "| 3 7 3 | 2 4 5 | 8 6 1\n",
      "| 2 8 5 | 3 6 1 | 9 7 4\n",
      "| 1 6 4 | 9 7 8 | 2 3 5\n",
      "- - - - - - - - - - - - \n",
      "| 9 5 8 | 6 3 4 | 1 2 7\n",
      "| 4 3 7 | 1 9 2 | 6 5 8\n",
      "| 6 2 1 | 8 5 7 | 4 9 3\n",
      "- - - - - - - - - - - - \n",
      "| 7 9 2 | 4 1 3 | 5 8 6\n",
      "| 8 4 3 | 5 2 6 | 7 1 9\n",
      "| 5 1 6 | 7 8 9 | 3 4 2\n"
     ]
    }
   ],
   "source": [
    "Print_Board (board)"
   ]
  },
  {
   "cell_type": "code",
   "execution_count": null,
   "id": "83f6ad9e",
   "metadata": {},
   "outputs": [],
   "source": []
  },
  {
   "cell_type": "code",
   "execution_count": 10,
   "id": "0c5a107a",
   "metadata": {},
   "outputs": [],
   "source": [
    "# row check function\n",
    "def row_check(r_board):\n",
    "    invalid_rows = []\n",
    "    \n",
    "    for i in range(9):\n",
    "        rows = r_board[i]\n",
    "#         print(\"rows \", rows)\n",
    "        problem_vals_row=[]\n",
    "        # now further check each row to find index of problematic value\n",
    "        for j in range(9):\n",
    "            if rows.count(rows[j]) > 1:\n",
    "#             if rows[j]== \".\" or rows.count(rows[j]) > 1:\n",
    "                problem_vals_row.append(j)\n",
    "                rows[j]=0\n",
    "#         print(\"problematic_indexes\",problem_vals_row)\n",
    "        if problem_vals_row:\n",
    "            invalid_rows.append((i, problem_vals_row))\n",
    "#             print(\"invalid_rows\", invalid_rows)\n",
    "    print(\"Initial length of invalid Rows\", len(invalid_rows))\n",
    "#     print (r_board)\n",
    "    return invalid_rows, len(invalid_rows), r_board"
   ]
  },
  {
   "cell_type": "code",
   "execution_count": 11,
   "id": "5ba2aa6b",
   "metadata": {},
   "outputs": [
    {
     "name": "stdout",
     "output_type": "stream",
     "text": [
      "Initial length of invalid Rows 1\n"
     ]
    }
   ],
   "source": [
    "rowboard=row_check(r_board)"
   ]
  },
  {
   "cell_type": "code",
   "execution_count": 12,
   "id": "2ab1c723",
   "metadata": {},
   "outputs": [
    {
     "data": {
      "text/plain": [
       "([(0, [0])],\n",
       " 1,\n",
       " [[0, 7, 3, 2, 4, 5, 8, 6, 1],\n",
       "  [2, 8, 5, 3, 6, 1, 9, 7, 4],\n",
       "  [1, 6, 4, 9, 7, 8, 2, 3, 5],\n",
       "  [9, 5, 8, 6, 3, 4, 1, 2, 7],\n",
       "  [4, 3, 7, 1, 9, 2, 6, 5, 8],\n",
       "  [6, 2, 1, 8, 5, 7, 4, 9, 3],\n",
       "  [7, 9, 2, 4, 1, 3, 5, 8, 6],\n",
       "  [8, 4, 3, 5, 2, 6, 7, 1, 9],\n",
       "  [5, 1, 6, 7, 8, 9, 3, 4, 2]])"
      ]
     },
     "execution_count": 12,
     "metadata": {},
     "output_type": "execute_result"
    }
   ],
   "source": [
    "rowboard"
   ]
  },
  {
   "cell_type": "code",
   "execution_count": 13,
   "id": "d003fb85",
   "metadata": {},
   "outputs": [],
   "source": [
    "# rowboard[2]"
   ]
  },
  {
   "cell_type": "code",
   "execution_count": null,
   "id": "719c9109",
   "metadata": {},
   "outputs": [],
   "source": []
  },
  {
   "cell_type": "code",
   "execution_count": 14,
   "id": "954350de",
   "metadata": {},
   "outputs": [],
   "source": [
    "# take transpose for columns\n",
    "transpose_board = []\n",
    "for i in range(9):\n",
    "    transposed_row = []\n",
    "    for j in range(9):\n",
    "        transposed_row.append(rowboard[2][j][i])\n",
    "    transpose_board.append(transposed_row)"
   ]
  },
  {
   "cell_type": "code",
   "execution_count": 15,
   "id": "4ad980c6",
   "metadata": {},
   "outputs": [
    {
     "data": {
      "text/plain": [
       "[[0, 2, 1, 9, 4, 6, 7, 8, 5],\n",
       " [7, 8, 6, 5, 3, 2, 9, 4, 1],\n",
       " [3, 5, 4, 8, 7, 1, 2, 3, 6],\n",
       " [2, 3, 9, 6, 1, 8, 4, 5, 7],\n",
       " [4, 6, 7, 3, 9, 5, 1, 2, 8],\n",
       " [5, 1, 8, 4, 2, 7, 3, 6, 9],\n",
       " [8, 9, 2, 1, 6, 4, 5, 7, 3],\n",
       " [6, 7, 3, 2, 5, 9, 8, 1, 4],\n",
       " [1, 4, 5, 7, 8, 3, 6, 9, 2]]"
      ]
     },
     "execution_count": 15,
     "metadata": {},
     "output_type": "execute_result"
    }
   ],
   "source": [
    "transpose_board"
   ]
  },
  {
   "cell_type": "code",
   "execution_count": 16,
   "id": "b84b28fe",
   "metadata": {},
   "outputs": [],
   "source": [
    "def col_check(transpose_board):\n",
    "    invalid_cols = []\n",
    "    for i in range(9):\n",
    "        cols = transpose_board[i]\n",
    "#         print(\"cols \", cols)\n",
    "        # now further check each row to find index of problematic value\n",
    "        problem_vals_cols=[]\n",
    "        for j in range(9):\n",
    "            if cols.count(cols[j]) > 1:\n",
    "#             if cols[j]== \".\" or cols.count(cols[j]) > 1:\n",
    "                problem_vals_cols.append(j)\n",
    "                cols[j]=0\n",
    "#         print(\"problematic_indexes\",problem_vals_cols)\n",
    "        if problem_vals_cols:\n",
    "            invalid_cols.append((i, problem_vals_cols))\n",
    "#             print(\"invalid_cols\", invalid_cols)\n",
    "    print(\"Initial length of invalid Cols\", len(invalid_cols))\n",
    "#     print (\"b\",c_board)\n",
    "    return invalid_cols, len(invalid_cols), transpose_board"
   ]
  },
  {
   "cell_type": "code",
   "execution_count": 17,
   "id": "43acdc71",
   "metadata": {},
   "outputs": [
    {
     "name": "stdout",
     "output_type": "stream",
     "text": [
      "Initial length of invalid Cols 1\n"
     ]
    }
   ],
   "source": [
    "colboard=col_check(transpose_board)"
   ]
  },
  {
   "cell_type": "code",
   "execution_count": 18,
   "id": "cc4596d6",
   "metadata": {},
   "outputs": [
    {
     "data": {
      "text/plain": [
       "([(2, [0])],\n",
       " 1,\n",
       " [[0, 2, 1, 9, 4, 6, 7, 8, 5],\n",
       "  [7, 8, 6, 5, 3, 2, 9, 4, 1],\n",
       "  [0, 5, 4, 8, 7, 1, 2, 3, 6],\n",
       "  [2, 3, 9, 6, 1, 8, 4, 5, 7],\n",
       "  [4, 6, 7, 3, 9, 5, 1, 2, 8],\n",
       "  [5, 1, 8, 4, 2, 7, 3, 6, 9],\n",
       "  [8, 9, 2, 1, 6, 4, 5, 7, 3],\n",
       "  [6, 7, 3, 2, 5, 9, 8, 1, 4],\n",
       "  [1, 4, 5, 7, 8, 3, 6, 9, 2]])"
      ]
     },
     "execution_count": 18,
     "metadata": {},
     "output_type": "execute_result"
    }
   ],
   "source": [
    "colboard"
   ]
  },
  {
   "cell_type": "code",
   "execution_count": null,
   "id": "39dcd261",
   "metadata": {},
   "outputs": [],
   "source": []
  },
  {
   "cell_type": "code",
   "execution_count": 19,
   "id": "8dbc857a",
   "metadata": {},
   "outputs": [],
   "source": [
    "# take transpose again to make board in orignal position\n",
    "transpose_board_again = []\n",
    "for i in range(9):\n",
    "    transposed_col = []\n",
    "    for j in range(9):\n",
    "        transposed_col.append(colboard[2][j][i])\n",
    "    transpose_board_again.append(transposed_col)"
   ]
  },
  {
   "cell_type": "code",
   "execution_count": 20,
   "id": "6c7139aa",
   "metadata": {},
   "outputs": [
    {
     "data": {
      "text/plain": [
       "[[0, 7, 0, 2, 4, 5, 8, 6, 1],\n",
       " [2, 8, 5, 3, 6, 1, 9, 7, 4],\n",
       " [1, 6, 4, 9, 7, 8, 2, 3, 5],\n",
       " [9, 5, 8, 6, 3, 4, 1, 2, 7],\n",
       " [4, 3, 7, 1, 9, 2, 6, 5, 8],\n",
       " [6, 2, 1, 8, 5, 7, 4, 9, 3],\n",
       " [7, 9, 2, 4, 1, 3, 5, 8, 6],\n",
       " [8, 4, 3, 5, 2, 6, 7, 1, 9],\n",
       " [5, 1, 6, 7, 8, 9, 3, 4, 2]]"
      ]
     },
     "execution_count": 20,
     "metadata": {},
     "output_type": "execute_result"
    }
   ],
   "source": [
    "transpose_board_again"
   ]
  },
  {
   "cell_type": "code",
   "execution_count": 21,
   "id": "b3b65ff1",
   "metadata": {},
   "outputs": [],
   "source": [
    "def sub_grid_check(g_board):\n",
    "    invalid_grids = []\n",
    "    # row-wise iteration of each sub grid\n",
    "    for i in range(0, 9, 3):\n",
    "        # col wise iteration of each sub grid\n",
    "        for j in range(0, 9, 3):\n",
    "            three_x_three_vals = []\n",
    "            problem_vals_grid = []\n",
    "            # rows + colz within 3x3\n",
    "            for rowz in range(3):\n",
    "                for colz in range(3):\n",
    "                    valz_gridz = g_board[i + rowz][j + colz]\n",
    "                    if three_x_three_vals.count(valz_gridz) > 0:\n",
    "#                     if valz_gridz == '.' or three_x_three_vals.count(valz_gridz) > 0:\n",
    "                        problem_vals_grid.append((i+rowz, j+colz))\n",
    "                        g_board[i + rowz][j + colz]=0\n",
    "                    three_x_three_vals.append(valz_gridz)\n",
    "#                     valz_gridz=0\n",
    "#                     print(\"three_X_three_vals\", three_x_three_vals)\n",
    "#             if len(set(three_x_three_vals)) != 9 or '.' in three_x_three_vals:\n",
    "            if len(set(three_x_three_vals)) != 9:\n",
    "                invalid_grids.append(((i,j), problem_vals_grid))\n",
    "#                 print(\"grid indexes\", invalid_grids)\n",
    "    print(\"Initial no of invalid Grids\", len(invalid_grids))\n",
    "    return invalid_grids,len(invalid_grids), g_board"
   ]
  },
  {
   "cell_type": "code",
   "execution_count": 22,
   "id": "388fe91b",
   "metadata": {},
   "outputs": [
    {
     "name": "stdout",
     "output_type": "stream",
     "text": [
      "Initial no of invalid Grids 1\n"
     ]
    }
   ],
   "source": [
    "gridboard=sub_grid_check(transpose_board_again)"
   ]
  },
  {
   "cell_type": "code",
   "execution_count": 23,
   "id": "68c49369",
   "metadata": {
    "scrolled": true
   },
   "outputs": [
    {
     "data": {
      "text/plain": [
       "([((0, 0), [(0, 2)])],\n",
       " 1,\n",
       " [[0, 7, 0, 2, 4, 5, 8, 6, 1],\n",
       "  [2, 8, 5, 3, 6, 1, 9, 7, 4],\n",
       "  [1, 6, 4, 9, 7, 8, 2, 3, 5],\n",
       "  [9, 5, 8, 6, 3, 4, 1, 2, 7],\n",
       "  [4, 3, 7, 1, 9, 2, 6, 5, 8],\n",
       "  [6, 2, 1, 8, 5, 7, 4, 9, 3],\n",
       "  [7, 9, 2, 4, 1, 3, 5, 8, 6],\n",
       "  [8, 4, 3, 5, 2, 6, 7, 1, 9],\n",
       "  [5, 1, 6, 7, 8, 9, 3, 4, 2]])"
      ]
     },
     "execution_count": 23,
     "metadata": {},
     "output_type": "execute_result"
    }
   ],
   "source": [
    "gridboard"
   ]
  },
  {
   "cell_type": "code",
   "execution_count": 24,
   "id": "47b8f81b",
   "metadata": {},
   "outputs": [
    {
     "data": {
      "text/plain": [
       "[[0, 7, 0, 2, 4, 5, 8, 6, 1],\n",
       " [2, 8, 5, 3, 6, 1, 9, 7, 4],\n",
       " [1, 6, 4, 9, 7, 8, 2, 3, 5],\n",
       " [9, 5, 8, 6, 3, 4, 1, 2, 7],\n",
       " [4, 3, 7, 1, 9, 2, 6, 5, 8],\n",
       " [6, 2, 1, 8, 5, 7, 4, 9, 3],\n",
       " [7, 9, 2, 4, 1, 3, 5, 8, 6],\n",
       " [8, 4, 3, 5, 2, 6, 7, 1, 9],\n",
       " [5, 1, 6, 7, 8, 9, 3, 4, 2]]"
      ]
     },
     "execution_count": 24,
     "metadata": {},
     "output_type": "execute_result"
    }
   ],
   "source": [
    "gridboard[2]"
   ]
  },
  {
   "cell_type": "code",
   "execution_count": 25,
   "id": "ea137d2e",
   "metadata": {},
   "outputs": [],
   "source": [
    "def corrected(gridboard):\n",
    "    corrections=0\n",
    "    for i in gridboard:\n",
    "        for count in i:\n",
    "#             print(count)\n",
    "            if count == 0:\n",
    "                corrections = corrections+1\n",
    "    return corrections"
   ]
  },
  {
   "cell_type": "code",
   "execution_count": 26,
   "id": "c8ae7d85",
   "metadata": {},
   "outputs": [
    {
     "data": {
      "text/plain": [
       "2"
      ]
     },
     "execution_count": 26,
     "metadata": {},
     "output_type": "execute_result"
    }
   ],
   "source": [
    "corrected(gridboard[2])"
   ]
  },
  {
   "cell_type": "code",
   "execution_count": null,
   "id": "0457c9d2",
   "metadata": {},
   "outputs": [],
   "source": []
  },
  {
   "cell_type": "code",
   "execution_count": 27,
   "id": "ff20ee2d",
   "metadata": {},
   "outputs": [],
   "source": [
    "# board = [[0, 7, 0, 2, 4, 5, 8, 6, 1],  \n",
    "#          [2, 8, 5, 3, 6, 1, 9, 7, 4],  \n",
    "#          [1, 6, 4, 9, 7, 8, 0, 3, 5],\n",
    "#          [9, 5, 8, 6, 3, 4, 1, 2, 7],  \n",
    "#          [4, 3, 7, 1, 9, 2, 6, 5, 8],  \n",
    "#          [6, 2, 1, 8, 5, 7, 4, 9, 3],\n",
    "#          [7, 9, 2, 4, 1, 3, 5, 8, 6],  \n",
    "#          [8, 4, 0, 5, 2, 6, 7, 1, 9],  \n",
    "#          [5, 1, 6, 7, 8, 9, 3, 4, 2]]"
   ]
  },
  {
   "cell_type": "code",
   "execution_count": 28,
   "id": "1f0ad5a2",
   "metadata": {},
   "outputs": [],
   "source": [
    "# all functions call here\n",
    "def Validity(board, row, col, val):\n",
    "    #  row\n",
    "    r=row_check(board)\n",
    "    print(\"row len\" , len(r))\n",
    "    for i in range(9):\n",
    "        if board[row][i] == val:\n",
    "            return False\n",
    "        \n",
    "    #  column\n",
    "    c=col_check(board)\n",
    "    print(\"col len\" , len(c))\n",
    "    for j in range(9):\n",
    "        if board[j][col] == val:\n",
    "            return False\n",
    "        \n",
    "    # subgrid\n",
    "    g=sub_grid_check(board)\n",
    "    print(\"grid len\" , len(g))\n",
    "    \n",
    "    grid_row = (row // 3) * 3\n",
    "    print(grid_row)\n",
    "    grid_col = (col // 3) * 3\n",
    "    print(grid_col)\n",
    "#     for i in range(0, 9,3):\n",
    "#         for j in range(0, 9,3):\n",
    "    for i in range(grid_row, grid_row + 3):\n",
    "        for j in range(grid_col, grid_col + 3):\n",
    "            if board[i][j] == val:\n",
    "                return False\n",
    "    \n",
    "    return True"
   ]
  },
  {
   "cell_type": "code",
   "execution_count": 29,
   "id": "2514064c",
   "metadata": {},
   "outputs": [],
   "source": [
    "def solve_sudoku(board):\n",
    "#     list_ints=[1,2,3,4,5,6,7,8,9]\n",
    "#     count=0\n",
    "    for row in range(9):\n",
    "        for col in range(9):\n",
    "            if board[row][col] == 0:\n",
    "                for val in range(1, 10):\n",
    "                    if Validity(board, row, col, val):\n",
    "                        # if works when validity function returns True, phir value daldo 1-9\n",
    "                        board[row][col] = val\n",
    "#                         count+=1\n",
    "                        # recursion\n",
    "                        if solve_sudoku(board):\n",
    "                            # sol found\n",
    "#                             count= count+1\n",
    "#                             print(count)\n",
    "                            return board\n",
    "                        else:\n",
    "                            # sol not found, undo \n",
    "                            board[row][col] = 0\n",
    "#                 print(board)\n",
    "                print(\"Oops, Solution doesnt Exist!\")\n",
    "#                 print(\"count\", count)\n",
    "                return False\n",
    "               \n",
    "    return board"
   ]
  },
  {
   "cell_type": "code",
   "execution_count": 30,
   "id": "ee3aebba",
   "metadata": {},
   "outputs": [
    {
     "name": "stdout",
     "output_type": "stream",
     "text": [
      "Initial length of invalid Rows 1\n",
      "row len 3\n",
      "Initial length of invalid Rows 1\n",
      "row len 3\n",
      "Initial length of invalid Rows 1\n",
      "row len 3\n",
      "Initial length of invalid Cols 1\n",
      "col len 3\n",
      "Initial no of invalid Grids 1\n",
      "grid len 3\n",
      "0\n",
      "0\n",
      "Initial length of invalid Rows 0\n",
      "row len 3\n",
      "Initial length of invalid Rows 0\n",
      "row len 3\n",
      "Initial length of invalid Rows 0\n",
      "row len 3\n",
      "Initial length of invalid Rows 0\n",
      "row len 3\n",
      "Initial length of invalid Rows 0\n",
      "row len 3\n",
      "Initial length of invalid Rows 0\n",
      "row len 3\n",
      "Initial length of invalid Rows 0\n",
      "row len 3\n",
      "Initial length of invalid Rows 0\n",
      "row len 3\n",
      "Initial length of invalid Rows 0\n",
      "row len 3\n",
      "Initial length of invalid Cols 0\n",
      "col len 3\n",
      "Initial no of invalid Grids 0\n",
      "grid len 3\n",
      "0\n",
      "0\n"
     ]
    }
   ],
   "source": [
    "final_sol=solve_sudoku(gridboard[2])"
   ]
  },
  {
   "cell_type": "code",
   "execution_count": 31,
   "id": "d72a989c",
   "metadata": {},
   "outputs": [
    {
     "data": {
      "text/plain": [
       "[[3, 7, 9, 2, 4, 5, 8, 6, 1],\n",
       " [2, 8, 5, 3, 6, 1, 9, 7, 4],\n",
       " [1, 6, 4, 9, 7, 8, 2, 3, 5],\n",
       " [9, 5, 8, 6, 3, 4, 1, 2, 7],\n",
       " [4, 3, 7, 1, 9, 2, 6, 5, 8],\n",
       " [6, 2, 1, 8, 5, 7, 4, 9, 3],\n",
       " [7, 9, 2, 4, 1, 3, 5, 8, 6],\n",
       " [8, 4, 3, 5, 2, 6, 7, 1, 9],\n",
       " [5, 1, 6, 7, 8, 9, 3, 4, 2]]"
      ]
     },
     "execution_count": 31,
     "metadata": {},
     "output_type": "execute_result"
    }
   ],
   "source": [
    "final_sol"
   ]
  },
  {
   "cell_type": "code",
   "execution_count": 32,
   "id": "f28cc5fd",
   "metadata": {},
   "outputs": [
    {
     "name": "stdout",
     "output_type": "stream",
     "text": [
      "- - - - - - - - - - - - \n",
      "| 3 7 9 | 2 4 5 | 8 6 1\n",
      "| 2 8 5 | 3 6 1 | 9 7 4\n",
      "| 1 6 4 | 9 7 8 | 2 3 5\n",
      "- - - - - - - - - - - - \n",
      "| 9 5 8 | 6 3 4 | 1 2 7\n",
      "| 4 3 7 | 1 9 2 | 6 5 8\n",
      "| 6 2 1 | 8 5 7 | 4 9 3\n",
      "- - - - - - - - - - - - \n",
      "| 7 9 2 | 4 1 3 | 5 8 6\n",
      "| 8 4 3 | 5 2 6 | 7 1 9\n",
      "| 5 1 6 | 7 8 9 | 3 4 2\n"
     ]
    }
   ],
   "source": [
    "Print_Board (final_sol)"
   ]
  },
  {
   "cell_type": "code",
   "execution_count": 29,
   "id": "7ec21295",
   "metadata": {},
   "outputs": [],
   "source": [
    "\n",
    "# def Sudoku(board):\n",
    "#     list_ints=[1,2,3,4,5,6,7,8,9]\n",
    "# #     while \n",
    "\n",
    "#     rowzie= row_check(board)\n",
    "# #     print(len(rowzie))\n",
    "# #     print(\"rows\",rowzie[1])\n",
    "    \n",
    "# #         print(list_ints[k])\n",
    "#     for i in range(9):\n",
    "# #         print(\"i\", i)\n",
    "#         for j in range((rowzie[1][i])):\n",
    "# #             print(\"j\", j)\n",
    "#             for k in range(len(list_ints)):\n",
    "# #                 print(\"k\", k)\n",
    "#                 if rowzie[1][i][j]==0:\n",
    "#                     if list_ints[k] not in rowzie[1][i]:\n",
    "#                         rowzie[1][i][j]=list_ints[k]\n",
    "#                     else:\n",
    "#                         k=k+1\n",
    "#     correct_r=rowzie[1]\n",
    "#     print(\"correct rows\" ,correct_r)\n",
    "         \n",
    "#     # COLUMNS \n",
    "#     # take transpose for columns\n",
    "#     transpose_correct_r = []\n",
    "#     for i in range(9):\n",
    "#         transposed_c_row = []\n",
    "#         for j in range(9):\n",
    "#             transposed_c_row.append(correct_r[j][i])\n",
    "#         transpose_correct_r.append(transposed_c_row)\n",
    "#     print(\"transpose_correct_r\",transpose_correct_r)\n",
    "    \n",
    "#     colzie= col_check(transpose_correct_r)\n",
    "# #     print(len(colzie))\n",
    "# #     print(\"cols\",colzie)\n",
    "#     for x in range(9):\n",
    "# #         print(\"i\", i)\n",
    "#         for y in range(len(colzie[1][x])):\n",
    "#     #            \n",
    "# #     print(\"j\", j)\n",
    "#             for z in range(len(list_ints)):\n",
    "#     #                 print(\"k\", k)\n",
    "#                 if colzie[1][x][y]==0:\n",
    "#                     if list_ints[z] not in colzie[1][x]:\n",
    "#                         colzie[1][x][y]=list_ints[z]\n",
    "#                     else:\n",
    "#                         z=z+1\n",
    "#     correct_c=colzie[1]\n",
    "#     print(\"correct cols\",correct_c)\n",
    "    \n",
    "#     # 3x3 GRIDS\n",
    "       \n",
    "# #     gridz= sub_grid_check(correct_c)\n",
    "# # #     print(len(gridz))\n",
    "# # #     print(\"grid\",gridz)\n",
    "\n",
    "# # #         print(list_ints[k])\n",
    "# #     for l in range(9):\n",
    "# # #         print(\"i\", i)\n",
    "# #         for m in range(len(correct_c[1][l])):\n",
    "# # #             print(\"j\", j)\n",
    "# #             for n in range(len(list_ints)):\n",
    "# # #                 print(\"k\", k)\n",
    "# #                 if correct_c[1][l][m]==0:\n",
    "# #                     if list_ints[n] not in correct_c[1][l]:\n",
    "# #                         correct_c[1][l][m]=list_ints[n]\n",
    "# #                     else:\n",
    "# #                         n=n+1\n",
    "# #     correct_grid=correct_c[1]\n",
    "# #     print(\"correct grids\" ,correct_grid)"
   ]
  },
  {
   "cell_type": "code",
   "execution_count": null,
   "id": "d1b5ea9e",
   "metadata": {},
   "outputs": [],
   "source": []
  },
  {
   "cell_type": "code",
   "execution_count": null,
   "id": "7c121c7b",
   "metadata": {},
   "outputs": [],
   "source": []
  },
  {
   "cell_type": "code",
   "execution_count": null,
   "id": "d73d5199",
   "metadata": {},
   "outputs": [],
   "source": []
  }
 ],
 "metadata": {
  "kernelspec": {
   "display_name": "Python 3 (ipykernel)",
   "language": "python",
   "name": "python3"
  },
  "language_info": {
   "codemirror_mode": {
    "name": "ipython",
    "version": 3
   },
   "file_extension": ".py",
   "mimetype": "text/x-python",
   "name": "python",
   "nbconvert_exporter": "python",
   "pygments_lexer": "ipython3",
   "version": "3.9.12"
  }
 },
 "nbformat": 4,
 "nbformat_minor": 5
}
